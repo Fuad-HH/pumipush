{
 "cells": [
  {
   "cell_type": "markdown",
   "metadata": {},
   "source": [
    "### Create CPN file\n",
    "- Get the number of elements and the number of partitions.\n",
    "- `.cpn` file is very simple. Each line just contains the rank number and the line number is the element number."
   ]
  },
  {
   "cell_type": "code",
   "execution_count": 1,
   "metadata": {},
   "outputs": [],
   "source": [
    "nelem = 7337\n",
    "nranks = 3"
   ]
  },
  {
   "cell_type": "code",
   "execution_count": 2,
   "metadata": {},
   "outputs": [],
   "source": [
    "part_size = nelem // nranks\n",
    "with open(\"7k_mesh.cpn\", 'w') as f:\n",
    "    for i in range(nelem):\n",
    "        f.write(f\"{i // part_size}\\n\")"
   ]
  }
 ],
 "metadata": {
  "kernelspec": {
   "display_name": "main",
   "language": "python",
   "name": "python3"
  },
  "language_info": {
   "codemirror_mode": {
    "name": "ipython",
    "version": 3
   },
   "file_extension": ".py",
   "mimetype": "text/x-python",
   "name": "python",
   "nbconvert_exporter": "python",
   "pygments_lexer": "ipython3",
   "version": "3.12.3"
  }
 },
 "nbformat": 4,
 "nbformat_minor": 2
}
